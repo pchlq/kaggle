{
 "cells": [
  {
   "cell_type": "code",
   "execution_count": 1,
   "metadata": {
    "_cell_guid": "b1076dfc-b9ad-4769-8c92-a6c4dae69d19",
    "_uuid": "8f2839f25d086af736a60e9eeb907d3b93b6e0e5"
   },
   "outputs": [],
   "source": [
    "import sys\n",
    "pt_models = \"../input/pretrained-models/pretrained-models.pytorch-master/\"\n",
    "sys.path.insert(0, pt_models)\n",
    "import pretrainedmodels"
   ]
  },
  {
   "cell_type": "code",
   "execution_count": 2,
   "metadata": {
    "_cell_guid": "79c7e3d0-c299-4dcb-8224-4455121ee9b0",
    "_uuid": "d629ff2d2480ee46fbb7e2d37f6b5fab8052498a"
   },
   "outputs": [],
   "source": [
    "import glob\n",
    "import torch\n",
    "import albumentations\n",
    "import pandas as pd\n",
    "import numpy as np\n",
    "from tqdm import tqdm\n",
    "from PIL import Image\n",
    "import joblib\n",
    "import torch.nn as nn\n",
    "from torch.nn import functional as F"
   ]
  },
  {
   "cell_type": "code",
   "execution_count": 3,
   "metadata": {},
   "outputs": [],
   "source": [
    "TEST_BATCH_SIZE=32\n",
    "MODEL_MEAN=(0.485, 0.456, 0.406)\n",
    "MODEL_STD=(0.229, 0.224, 0.225)\n",
    "IMG_HEIGHT=137\n",
    "IMG_WIDTH=236\n",
    "DEVICE=\"cuda\""
   ]
  },
  {
   "cell_type": "code",
   "execution_count": 4,
   "metadata": {},
   "outputs": [],
   "source": [
    "class ResNet50(nn.Module):\n",
    "    def __init__(self, pretrained):\n",
    "        super(ResNet50, self).__init__()\n",
    "        if pretrained:\n",
    "            self.model = pretrainedmodels.__dict__[\"resnet50\"](pretrained=\"imagenet\")\n",
    "        else:\n",
    "            self.model = pretrainedmodels.__dict__[\"resnet50\"](pretrained=None)\n",
    "\n",
    "        self.l0 = nn.Linear(2048, 168)\n",
    "        self.l1 = nn.Linear(2048, 11)\n",
    "        self.l2 = nn.Linear(2048, 7)\n",
    "\n",
    "    def forward(self, x):\n",
    "        bs, _, _, _ = x.shape\n",
    "        x = self.model.features(x)\n",
    "        x = F.adaptive_avg_pool2d(x, 1).reshape(bs, -1)\n",
    "        l0 = self.l0(x)\n",
    "        l1 = self.l1(x)\n",
    "        l2 = self.l2(x)\n",
    "        return l0, l1, l2"
   ]
  },
  {
   "cell_type": "code",
   "execution_count": 5,
   "metadata": {},
   "outputs": [],
   "source": [
    "class BengaliDatasetTest:\n",
    "    def __init__(self, df, img_height, img_width, mean, std):\n",
    "        self.image_ids = df.image_id.values\n",
    "        self.img_arr = df.iloc[:, 1:].values\n",
    "        \n",
    "        self.aug = albumentations.Compose([\n",
    "                albumentations.Resize(img_height, img_width, always_apply=True),\n",
    "                albumentations.Normalize(mean, std, always_apply=True)\n",
    "            ])\n",
    "\n",
    "    def __len__(self):\n",
    "        return len(self.image_ids)\n",
    "\n",
    "    def __getitem__(self, item):\n",
    "        image = self.img_arr[item, :]\n",
    "        img_id = self.image_ids[item]\n",
    "        \n",
    "        image = image.reshape(137, 236).astype(float)\n",
    "        image = Image.fromarray(image).convert(\"RGB\")\n",
    "        image = self.aug(image=np.array(image))[\"image\"]\n",
    "        image = np.transpose(image, (2, 0, 1)).astype(np.float32)\n",
    "        \n",
    "        return{\n",
    "            'image': torch.tensor(image, dtype=torch.float),\n",
    "            'image_id': img_id\n",
    "        }"
   ]
  },
  {
   "cell_type": "code",
   "execution_count": 6,
   "metadata": {},
   "outputs": [],
   "source": [
    "# =======\n",
    "def model_predict():\n",
    "    g_pred, v_pred, c_pred = [], [], []\n",
    "    img_ids_list = [] \n",
    "    \n",
    "    for file_idx in range(4):\n",
    "        df = pd.read_parquet(f\"../input/bengaliai-cv19/test_image_data_{file_idx}.parquet\")\n",
    "\n",
    "        dataset = BengaliDatasetTest(df=df,\n",
    "                                    img_height=IMG_HEIGHT,\n",
    "                                    img_width=IMG_WIDTH,\n",
    "                                    mean=MODEL_MEAN,\n",
    "                                    std=MODEL_STD)\n",
    "\n",
    "        data_loader = torch.utils.data.DataLoader(\n",
    "            dataset=dataset,\n",
    "            batch_size= TEST_BATCH_SIZE,\n",
    "            shuffle=False,\n",
    "            num_workers=4\n",
    "        )\n",
    "\n",
    "        for bi, d in enumerate(data_loader):\n",
    "            image = d[\"image\"]\n",
    "            img_id = d[\"image_id\"]\n",
    "            image = image.to(DEVICE, dtype=torch.float)\n",
    "\n",
    "            g, v, c = model(image)\n",
    "            #g = np.argmax(g.cpu().detach().numpy(), axis=1)\n",
    "            #v = np.argmax(v.cpu().detach().numpy(), axis=1)\n",
    "            #c = np.argmax(c.cpu().detach().numpy(), axis=1)\n",
    "\n",
    "            for ii, imid in enumerate(img_id):\n",
    "                g_pred.append(g[ii].cpu().detach().numpy())\n",
    "                v_pred.append(v[ii].cpu().detach().numpy())\n",
    "                c_pred.append(c[ii].cpu().detach().numpy())\n",
    "                img_ids_list.append(imid)\n",
    "        \n",
    "    return g_pred, v_pred, c_pred, img_ids_list"
   ]
  },
  {
   "cell_type": "code",
   "execution_count": 7,
   "metadata": {},
   "outputs": [],
   "source": [
    "model = ResNet50(pretrained=False)\n",
    "TEST_BATCH_SIZE = 32\n",
    "Start_fold=0\n",
    "final_g_pred = []\n",
    "final_v_pred = []\n",
    "final_c_pred = []\n",
    "final_img_ids = []\n",
    "\n",
    "for i in [Start_fold, 1, 3, 4]: # range(Start_fold, 5):\n",
    "    model.load_state_dict(torch.load(f\"../input/resnet50/resnet50_fold{i}.bin\"))\n",
    "#     print(model)\n",
    "    model.to(DEVICE)\n",
    "    model.eval()\n",
    "    g_pred, v_pred, c_pred, img_ids_list = model_predict()\n",
    "#     print(img_ids_list)\n",
    "    final_g_pred.append(g_pred)\n",
    "    final_v_pred.append(v_pred)\n",
    "    final_c_pred.append(c_pred)\n",
    "#     print(final_c_pred)\n",
    "    if i == Start_fold:\n",
    "        final_img_ids.extend(img_ids_list)"
   ]
  },
  {
   "cell_type": "code",
   "execution_count": 8,
   "metadata": {},
   "outputs": [],
   "source": [
    "final_g = np.argmax(np.mean(np.array(final_g_pred), axis=0), axis=1)\n",
    "final_v = np.argmax(np.mean(np.array(final_v_pred), axis=0), axis=1)\n",
    "final_c = np.argmax(np.mean(np.array(final_c_pred), axis=0), axis=1)\n",
    "# print(final_g)\n",
    "# print(final_img_ids)\n",
    "predictions = []\n",
    "for ii, imid in enumerate(final_img_ids):\n",
    "\n",
    "    predictions.append((f\"{imid}_grapheme_root\", final_g[ii]))\n",
    "    predictions.append((f\"{imid}_vowel_diacritic\", final_v[ii]))\n",
    "    predictions.append((f\"{imid}_consonant_diacritic\", final_c[ii]))"
   ]
  },
  {
   "cell_type": "code",
   "execution_count": 9,
   "metadata": {},
   "outputs": [
    {
     "name": "stdout",
     "output_type": "stream",
     "text": [
      "                         row_id  target\n",
      "0          Test_0_grapheme_root       3\n",
      "1        Test_0_vowel_diacritic       0\n",
      "2    Test_0_consonant_diacritic       0\n",
      "3          Test_1_grapheme_root      93\n",
      "4        Test_1_vowel_diacritic       2\n",
      "5    Test_1_consonant_diacritic       0\n",
      "6          Test_2_grapheme_root      19\n",
      "7        Test_2_vowel_diacritic       0\n",
      "8    Test_2_consonant_diacritic       0\n",
      "9          Test_3_grapheme_root     115\n",
      "10       Test_3_vowel_diacritic       0\n",
      "11   Test_3_consonant_diacritic       0\n",
      "12         Test_4_grapheme_root      55\n",
      "13       Test_4_vowel_diacritic       4\n",
      "14   Test_4_consonant_diacritic       0\n",
      "15         Test_5_grapheme_root     115\n",
      "16       Test_5_vowel_diacritic       2\n",
      "17   Test_5_consonant_diacritic       0\n",
      "18         Test_6_grapheme_root     147\n",
      "19       Test_6_vowel_diacritic       9\n",
      "20   Test_6_consonant_diacritic       5\n",
      "21         Test_7_grapheme_root     137\n",
      "22       Test_7_vowel_diacritic       7\n",
      "23   Test_7_consonant_diacritic       0\n",
      "24         Test_8_grapheme_root     119\n",
      "25       Test_8_vowel_diacritic       9\n",
      "26   Test_8_consonant_diacritic       0\n",
      "27         Test_9_grapheme_root     133\n",
      "28       Test_9_vowel_diacritic      10\n",
      "29   Test_9_consonant_diacritic       0\n",
      "30        Test_10_grapheme_root     148\n",
      "31      Test_10_vowel_diacritic       1\n",
      "32  Test_10_consonant_diacritic       4\n",
      "33        Test_11_grapheme_root      21\n",
      "34      Test_11_vowel_diacritic       2\n",
      "35  Test_11_consonant_diacritic       0\n"
     ]
    }
   ],
   "source": [
    "sub = pd.DataFrame(predictions,columns=[\"row_id\",\"target\"])\n",
    "print(sub)"
   ]
  },
  {
   "cell_type": "code",
   "execution_count": 10,
   "metadata": {},
   "outputs": [],
   "source": [
    "sub.to_csv(\"submission.csv\",index=False)"
   ]
  },
  {
   "cell_type": "code",
   "execution_count": 11,
   "metadata": {},
   "outputs": [],
   "source": [
    "# model = ResNet34(pretrained=False)\n",
    "# model.load_state_dict(torch.load(\"../input/bengali-models/resnet34_fold0.bin\"))\n",
    "# model.eval()"
   ]
  },
  {
   "cell_type": "code",
   "execution_count": 12,
   "metadata": {},
   "outputs": [],
   "source": [
    "# predictions = []\n",
    "# for file_idx in range(4):\n",
    "#     df = pd.read_parquet(f\"../input/bengaliai-cv19/test_image_data_{file_idx}.parquet\")\n",
    "#     dataset = BengaliDatasetTest(df=df, img_height=IMG_HEIGHT, \n",
    "#                                  img_width=IMG_WIDTH, mean=MODEL_MEAN, std=MODEL_STD)\n",
    "#     data_loader = torch.utils.data.DataLoader(dataset, \n",
    "#                                              batch_size=TEST_BATCH_SIZE,\n",
    "#                                              shuffle=False,\n",
    "#                                              num_workers=4)\n",
    "#     for bi, d in enumerate(dataset):\n",
    "#         image = d[\"image\"]\n",
    "#         img_id = d[\"image_id\"]\n",
    "#         image = image.to(DEVICE, dtype=torch.float)\n",
    "#         g, v, c = model(image)\n",
    "#         g = np.argmax(g, axis=1)\n",
    "#         v = np.argmax(v, axis=1)\n",
    "#         c = np.argmax(c, axis=1)\n",
    "#         for ii, imid in enumerate(img_id):\n",
    "#             predictions.append((f\"{imid}_grapheme_root\", g[ii]))\n",
    "#             predictions.append((f\"{imid}_vowel_diacritic\", v[ii]))\n",
    "#             predictions.append((f\"{imid}_consonant_diacritic\", c[ii]))"
   ]
  },
  {
   "cell_type": "code",
   "execution_count": 13,
   "metadata": {},
   "outputs": [],
   "source": [
    "# sub = pd.DataFrame(predictions, columns=[\"row_id\", \"target\"])"
   ]
  },
  {
   "cell_type": "code",
   "execution_count": 14,
   "metadata": {},
   "outputs": [],
   "source": [
    "# sub.to_csv(\"submission.csv\", index=False)"
   ]
  }
 ],
 "metadata": {
  "kernelspec": {
   "display_name": "Python 3",
   "language": "python",
   "name": "python3"
  },
  "language_info": {
   "codemirror_mode": {
    "name": "ipython",
    "version": 3
   },
   "file_extension": ".py",
   "mimetype": "text/x-python",
   "name": "python",
   "nbconvert_exporter": "python",
   "pygments_lexer": "ipython3",
   "version": "3.6.6"
  }
 },
 "nbformat": 4,
 "nbformat_minor": 4
}
