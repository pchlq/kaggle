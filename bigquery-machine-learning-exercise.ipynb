{
 "cells": [
  {
   "cell_type": "markdown",
   "metadata": {},
   "source": [
    "### This exercise is designed to pair with [this tutorial](https://www.kaggle.com/rtatman/bigquery-machine-learning-tutorial). If you haven't taken a look at it yet, head over and check it out first. (Otherwise these exercises will be pretty confusing!) -- Rachael "
   ]
  },
  {
   "cell_type": "markdown",
   "metadata": {},
   "source": [
    "# Stocking rental bikes\n",
    "\n",
    "![bike rentals](https://upload.wikimedia.org/wikipedia/commons/thumb/a/a0/Bay_Area_Bike_Share_launch_in_San_Jose_CA.jpg/640px-Bay_Area_Bike_Share_launch_in_San_Jose_CA.jpg)\n",
    "\n",
    "You stock bikes for a bike rental company in Austin, ensuring stations have enough bikes for all their riders. You decide to build a model to predict how many riders will start from each station during each hour, capturing patterns in seasonality, time of day, day of the week, etc.\n",
    "\n",
    "To get started, create a project in GCP and connect to it by running the code cell below. Make sure you have connected the kernel to your GCP account in Settings."
   ]
  },
  {
   "cell_type": "code",
   "execution_count": 1,
   "metadata": {},
   "outputs": [],
   "source": [
    "# Set your own project id here\n",
    "PROJECT_ID = 'kaggle-bqml-pchlq' # a string, like 'kaggle-bigquery-240818'\n",
    "\n",
    "from google.cloud import bigquery\n",
    "client = bigquery.Client(project=PROJECT_ID, location=\"US\")\n",
    "dataset = client.create_dataset('model_dataset', exists_ok=True)\n",
    "\n",
    "from google.cloud.bigquery import magics\n",
    "from kaggle.gcp import KaggleKernelCredentials\n",
    "magics.context.credentials = KaggleKernelCredentials()\n",
    "magics.context.project = PROJECT_ID"
   ]
  },
  {
   "cell_type": "code",
   "execution_count": 2,
   "metadata": {},
   "outputs": [],
   "source": [
    "%load_ext google.cloud.bigquery"
   ]
  },
  {
   "cell_type": "markdown",
   "metadata": {},
   "source": [
    "## Linear Regression\n",
    "\n",
    "Your dataset is quite large. BigQuery is especially efficient with large datasets, so you'll use BigQuery-ML (called BQML) to build your model. BQML uses a \"linear regression\" model when predicting numeric outcomes, like the number of riders.\n",
    "\n",
    "## 1) Training vs testing\n",
    "\n",
    "You'll want to test your model on data it hasn't seen before (for reasons described in the [Intro to Machine Learning Micro-Course](https://www.kaggle.com/learn/intro-to-machine-learning). What do you think is a good approach to splitting the data? What data should we use to train, what data should we use for test the model?"
   ]
  },
  {
   "cell_type": "markdown",
   "metadata": {},
   "source": [
    "We have to split data on training and holdout datasets with proportions, let's say, 70:30 respectively."
   ]
  },
  {
   "cell_type": "markdown",
   "metadata": {},
   "source": [
    "## Training data\n",
    "\n",
    "First, you'll write a query to get the data for model-building. You can use the public Austin bike share dataset from the `bigquery-public-data.austin_bikeshare.bikeshare_trips` table. You predict the number of rides based on the station where the trip starts and the hour when the trip started. Use the `TIMESTAMP_TRUNC` function to truncate the start time to the hour."
   ]
  },
  {
   "cell_type": "code",
   "execution_count": 3,
   "metadata": {},
   "outputs": [
    {
     "data": {
      "text/html": [
       "<div>\n",
       "<style scoped>\n",
       "    .dataframe tbody tr th:only-of-type {\n",
       "        vertical-align: middle;\n",
       "    }\n",
       "\n",
       "    .dataframe tbody tr th {\n",
       "        vertical-align: top;\n",
       "    }\n",
       "\n",
       "    .dataframe thead th {\n",
       "        text-align: right;\n",
       "    }\n",
       "</style>\n",
       "<table border=\"1\" class=\"dataframe\">\n",
       "  <thead>\n",
       "    <tr style=\"text-align: right;\">\n",
       "      <th></th>\n",
       "      <th>trip_id</th>\n",
       "      <th>subscriber_type</th>\n",
       "      <th>bikeid</th>\n",
       "      <th>start_time</th>\n",
       "      <th>start_station_id</th>\n",
       "      <th>start_station_name</th>\n",
       "      <th>end_station_id</th>\n",
       "      <th>end_station_name</th>\n",
       "      <th>duration_minutes</th>\n",
       "    </tr>\n",
       "  </thead>\n",
       "  <tbody>\n",
       "    <tr>\n",
       "      <th>0</th>\n",
       "      <td>9900285908</td>\n",
       "      <td>Annual Membership (Austin B-cycle)</td>\n",
       "      <td>400</td>\n",
       "      <td>2014-10-26 14:12:00+00:00</td>\n",
       "      <td>2823</td>\n",
       "      <td>Capital Metro HQ - East 5th at Broadway</td>\n",
       "      <td>2544</td>\n",
       "      <td>East 6th &amp; Pedernales St.</td>\n",
       "      <td>10</td>\n",
       "    </tr>\n",
       "    <tr>\n",
       "      <th>1</th>\n",
       "      <td>9900289692</td>\n",
       "      <td>Walk Up</td>\n",
       "      <td>248</td>\n",
       "      <td>2015-10-02 21:12:01+00:00</td>\n",
       "      <td>1006</td>\n",
       "      <td>Zilker Park West</td>\n",
       "      <td>1008</td>\n",
       "      <td>Nueces @ 3rd</td>\n",
       "      <td>39</td>\n",
       "    </tr>\n",
       "    <tr>\n",
       "      <th>2</th>\n",
       "      <td>9900285987</td>\n",
       "      <td>24-Hour Kiosk (Austin B-cycle)</td>\n",
       "      <td>446</td>\n",
       "      <td>2014-10-26 15:12:00+00:00</td>\n",
       "      <td>2712</td>\n",
       "      <td>Toomey Rd @ South Lamar</td>\n",
       "      <td>2712</td>\n",
       "      <td>Toomey Rd @ South Lamar</td>\n",
       "      <td>31</td>\n",
       "    </tr>\n",
       "    <tr>\n",
       "      <th>3</th>\n",
       "      <td>9900285989</td>\n",
       "      <td>24-Hour Kiosk (Austin B-cycle)</td>\n",
       "      <td>203</td>\n",
       "      <td>2014-10-26 15:12:00+00:00</td>\n",
       "      <td>2712</td>\n",
       "      <td>Toomey Rd @ South Lamar</td>\n",
       "      <td>2712</td>\n",
       "      <td>Toomey Rd @ South Lamar</td>\n",
       "      <td>31</td>\n",
       "    </tr>\n",
       "    <tr>\n",
       "      <th>4</th>\n",
       "      <td>9900285991</td>\n",
       "      <td>24-Hour Kiosk (Austin B-cycle)</td>\n",
       "      <td>101</td>\n",
       "      <td>2014-10-26 15:12:00+00:00</td>\n",
       "      <td>2712</td>\n",
       "      <td>Toomey Rd @ South Lamar</td>\n",
       "      <td>2712</td>\n",
       "      <td>Toomey Rd @ South Lamar</td>\n",
       "      <td>30</td>\n",
       "    </tr>\n",
       "  </tbody>\n",
       "</table>\n",
       "</div>"
      ],
      "text/plain": [
       "      trip_id                     subscriber_type bikeid  \\\n",
       "0  9900285908  Annual Membership (Austin B-cycle)    400   \n",
       "1  9900289692                             Walk Up    248   \n",
       "2  9900285987      24-Hour Kiosk (Austin B-cycle)    446   \n",
       "3  9900285989      24-Hour Kiosk (Austin B-cycle)    203   \n",
       "4  9900285991      24-Hour Kiosk (Austin B-cycle)    101   \n",
       "\n",
       "                 start_time  start_station_id  \\\n",
       "0 2014-10-26 14:12:00+00:00              2823   \n",
       "1 2015-10-02 21:12:01+00:00              1006   \n",
       "2 2014-10-26 15:12:00+00:00              2712   \n",
       "3 2014-10-26 15:12:00+00:00              2712   \n",
       "4 2014-10-26 15:12:00+00:00              2712   \n",
       "\n",
       "                        start_station_name  end_station_id  \\\n",
       "0  Capital Metro HQ - East 5th at Broadway            2544   \n",
       "1                         Zilker Park West            1008   \n",
       "2                  Toomey Rd @ South Lamar            2712   \n",
       "3                  Toomey Rd @ South Lamar            2712   \n",
       "4                  Toomey Rd @ South Lamar            2712   \n",
       "\n",
       "            end_station_name  duration_minutes  \n",
       "0  East 6th & Pedernales St.                10  \n",
       "1               Nueces @ 3rd                39  \n",
       "2    Toomey Rd @ South Lamar                31  \n",
       "3    Toomey Rd @ South Lamar                31  \n",
       "4    Toomey Rd @ South Lamar                30  "
      ]
     },
     "execution_count": 3,
     "metadata": {},
     "output_type": "execute_result"
    }
   ],
   "source": [
    "# create a reference to our table\n",
    "table = client.get_table(\"bigquery-public-data.austin_bikeshare.bikeshare_trips\")\n",
    "\n",
    "# look at five rows from our dataset\n",
    "client.list_rows(table, max_results=5).to_dataframe()"
   ]
  },
  {
   "cell_type": "markdown",
   "metadata": {},
   "source": [
    "## 2) Exercise: Query the training data\n",
    "\n",
    "Write the query to retrieve your training data. The fields should be:\n",
    "1. The start_station_name\n",
    "2. A time trips start, to the nearest hour. Get this with `TIMESTAMP_TRUNC(start_time, HOUR) as start_hour`\n",
    "3. The number of rides starting at the station during the hour. Call this `num_rides`.\n",
    "Select only the data before 2018-01-01 (so we can save data from 2018 as testing data.)"
   ]
  },
  {
   "cell_type": "markdown",
   "metadata": {},
   "source": [
    "Write your query below:"
   ]
  },
  {
   "cell_type": "code",
   "execution_count": 4,
   "metadata": {},
   "outputs": [],
   "source": [
    "%%bigquery train_df\n",
    "SELECT \n",
    "    start_station_name,\n",
    "    TIMESTAMP_TRUNC(start_time, HOUR) as start_hour,\n",
    "    COUNT(1) AS num_rides\n",
    "FROM\n",
    "    `bigquery-public-data.austin_bikeshare.bikeshare_trips`\n",
    "WHERE \n",
    "    EXTRACT(YEAR FROM start_time) < 2018\n",
    "GROUP BY\n",
    "    start_station_name, start_hour"
   ]
  },
  {
   "cell_type": "markdown",
   "metadata": {},
   "source": [
    "You'll want to inspect your data to ensure it looks like what you expect. Run the line below to get a quick view of the data, and feel free to explore it more if you'd like (if you don't know how to do that, the [Pandas micro-course](https://www.kaggle.com/learn/pandas)) might be helpful."
   ]
  },
  {
   "cell_type": "code",
   "execution_count": 5,
   "metadata": {},
   "outputs": [
    {
     "data": {
      "text/html": [
       "<div>\n",
       "<style scoped>\n",
       "    .dataframe tbody tr th:only-of-type {\n",
       "        vertical-align: middle;\n",
       "    }\n",
       "\n",
       "    .dataframe tbody tr th {\n",
       "        vertical-align: top;\n",
       "    }\n",
       "\n",
       "    .dataframe thead th {\n",
       "        text-align: right;\n",
       "    }\n",
       "</style>\n",
       "<table border=\"1\" class=\"dataframe\">\n",
       "  <thead>\n",
       "    <tr style=\"text-align: right;\">\n",
       "      <th></th>\n",
       "      <th>start_station_name</th>\n",
       "      <th>start_hour</th>\n",
       "      <th>num_rides</th>\n",
       "    </tr>\n",
       "  </thead>\n",
       "  <tbody>\n",
       "    <tr>\n",
       "      <th>0</th>\n",
       "      <td>Zilker Park West</td>\n",
       "      <td>2015-10-02 21:00:00+00:00</td>\n",
       "      <td>88</td>\n",
       "    </tr>\n",
       "    <tr>\n",
       "      <th>1</th>\n",
       "      <td>Zilker Park West</td>\n",
       "      <td>2015-10-02 20:00:00+00:00</td>\n",
       "      <td>23</td>\n",
       "    </tr>\n",
       "    <tr>\n",
       "      <th>2</th>\n",
       "      <td>Zilker Park West</td>\n",
       "      <td>2015-10-03 21:00:00+00:00</td>\n",
       "      <td>78</td>\n",
       "    </tr>\n",
       "    <tr>\n",
       "      <th>3</th>\n",
       "      <td>Nueces @ 3rd</td>\n",
       "      <td>2015-10-03 12:00:00+00:00</td>\n",
       "      <td>11</td>\n",
       "    </tr>\n",
       "    <tr>\n",
       "      <th>4</th>\n",
       "      <td>Zilker Park West</td>\n",
       "      <td>2015-10-03 16:00:00+00:00</td>\n",
       "      <td>12</td>\n",
       "    </tr>\n",
       "  </tbody>\n",
       "</table>\n",
       "</div>"
      ],
      "text/plain": [
       "  start_station_name                start_hour  num_rides\n",
       "0   Zilker Park West 2015-10-02 21:00:00+00:00         88\n",
       "1   Zilker Park West 2015-10-02 20:00:00+00:00         23\n",
       "2   Zilker Park West 2015-10-03 21:00:00+00:00         78\n",
       "3       Nueces @ 3rd 2015-10-03 12:00:00+00:00         11\n",
       "4   Zilker Park West 2015-10-03 16:00:00+00:00         12"
      ]
     },
     "execution_count": 5,
     "metadata": {},
     "output_type": "execute_result"
    }
   ],
   "source": [
    "train_df.head()"
   ]
  },
  {
   "cell_type": "code",
   "execution_count": 6,
   "metadata": {},
   "outputs": [
    {
     "data": {
      "text/plain": [
       "start_station_name\n",
       "11th & San Jacinto                                       3451\n",
       "13th & San Antonio                                        794\n",
       "17th & Guadalupe                                         7856\n",
       "2nd & Congress                                          29283\n",
       "3rd & West                                              17774\n",
       "                                                        ...  \n",
       "Waller & 6th St.                                         5744\n",
       "West & 6th St.                                          12741\n",
       "Zilker Park                                             15176\n",
       "Zilker Park West                                         1361\n",
       "Zilker Park at Barton Springs & William Barton Drive    11534\n",
       "Name: num_rides, Length: 91, dtype: int64"
      ]
     },
     "execution_count": 6,
     "metadata": {},
     "output_type": "execute_result"
    }
   ],
   "source": [
    "train_df.groupby('start_station_name')['num_rides'].sum()"
   ]
  },
  {
   "cell_type": "markdown",
   "metadata": {},
   "source": [
    "## Model creation\n",
    "\n",
    "Now it's time to turn this data into a model. You'll use the `CREATE MODEL` statement that has a structure like: \n",
    "\n",
    "```sql\n",
    "CREATE OR REPLACE MODEL`model_dataset.bike_trips`\n",
    "OPTIONS(model_type='linear_reg') AS \n",
    "-- training data query goes here\n",
    "SELECT ...\n",
    "    column_with_labels AS label\n",
    "    column_with_data_1 \n",
    "    column_with_data_2\n",
    "FROM ... \n",
    "WHERE ... (Optional)\n",
    "GROUP BY ... (Optional)\n",
    "```\n",
    "\n",
    "The `model_type` and `optimize_strategy` shown here are good parameters to use in general for predicting numeric outcomes with BQML.\n",
    "\n",
    "**Tip:** Using ```CREATE OR REPLACE MODEL``` rather than just ```CREATE MODEL``` ensures you don't get an error if you want to run this command again without first deleting the model you've created."
   ]
  },
  {
   "cell_type": "markdown",
   "metadata": {},
   "source": [
    "## 3) Exercise: Create and train the model\n",
    "\n",
    "Below, write your query to create and train a linear regression model on the training data."
   ]
  },
  {
   "cell_type": "markdown",
   "metadata": {},
   "source": [
    "Write your query below:"
   ]
  },
  {
   "cell_type": "code",
   "execution_count": 7,
   "metadata": {},
   "outputs": [
    {
     "data": {
      "text/html": [
       "<div>\n",
       "<style scoped>\n",
       "    .dataframe tbody tr th:only-of-type {\n",
       "        vertical-align: middle;\n",
       "    }\n",
       "\n",
       "    .dataframe tbody tr th {\n",
       "        vertical-align: top;\n",
       "    }\n",
       "\n",
       "    .dataframe thead th {\n",
       "        text-align: right;\n",
       "    }\n",
       "</style>\n",
       "<table border=\"1\" class=\"dataframe\">\n",
       "  <thead>\n",
       "    <tr style=\"text-align: right;\">\n",
       "      <th></th>\n",
       "    </tr>\n",
       "  </thead>\n",
       "  <tbody>\n",
       "  </tbody>\n",
       "</table>\n",
       "</div>"
      ],
      "text/plain": [
       "Empty DataFrame\n",
       "Columns: []\n",
       "Index: []"
      ]
     },
     "execution_count": 7,
     "metadata": {},
     "output_type": "execute_result"
    }
   ],
   "source": [
    "%%bigquery\n",
    "\n",
    "CREATE OR REPLACE MODEL`model_dataset.bike_trips`\n",
    "OPTIONS(model_type='linear_reg', ls_init_learn_rate=.15, l1_reg=1, max_iterations=3) AS \n",
    "SELECT\n",
    "    COUNT(1) AS label,\n",
    "    start_station_name, \n",
    "    TIMESTAMP_TRUNC(start_time, HOUR) as start_hour\n",
    "FROM `bigquery-public-data.austin_bikeshare.bikeshare_trips`\n",
    "WHERE \n",
    "    EXTRACT(YEAR FROM start_time) < 2018\n",
    "GROUP BY\n",
    "    start_station_name, start_hour"
   ]
  },
  {
   "cell_type": "markdown",
   "metadata": {},
   "source": [
    "# Get training statistics"
   ]
  },
  {
   "cell_type": "code",
   "execution_count": 8,
   "metadata": {},
   "outputs": [
    {
     "data": {
      "text/html": [
       "<div>\n",
       "<style scoped>\n",
       "    .dataframe tbody tr th:only-of-type {\n",
       "        vertical-align: middle;\n",
       "    }\n",
       "\n",
       "    .dataframe tbody tr th {\n",
       "        vertical-align: top;\n",
       "    }\n",
       "\n",
       "    .dataframe thead th {\n",
       "        text-align: right;\n",
       "    }\n",
       "</style>\n",
       "<table border=\"1\" class=\"dataframe\">\n",
       "  <thead>\n",
       "    <tr style=\"text-align: right;\">\n",
       "      <th></th>\n",
       "      <th>training_run</th>\n",
       "      <th>iteration</th>\n",
       "      <th>loss</th>\n",
       "      <th>eval_loss</th>\n",
       "      <th>learning_rate</th>\n",
       "      <th>duration_ms</th>\n",
       "    </tr>\n",
       "  </thead>\n",
       "  <tbody>\n",
       "    <tr>\n",
       "      <th>0</th>\n",
       "      <td>0</td>\n",
       "      <td>0</td>\n",
       "      <td>4.686611</td>\n",
       "      <td>3.979912</td>\n",
       "      <td>0.15</td>\n",
       "      <td>11536</td>\n",
       "    </tr>\n",
       "    <tr>\n",
       "      <th>1</th>\n",
       "      <td>0</td>\n",
       "      <td>1</td>\n",
       "      <td>4.002102</td>\n",
       "      <td>3.278119</td>\n",
       "      <td>0.15</td>\n",
       "      <td>14410</td>\n",
       "    </tr>\n",
       "    <tr>\n",
       "      <th>2</th>\n",
       "      <td>0</td>\n",
       "      <td>2</td>\n",
       "      <td>3.844480</td>\n",
       "      <td>3.146704</td>\n",
       "      <td>0.15</td>\n",
       "      <td>14797</td>\n",
       "    </tr>\n",
       "  </tbody>\n",
       "</table>\n",
       "</div>"
      ],
      "text/plain": [
       "   training_run  iteration      loss  eval_loss  learning_rate  duration_ms\n",
       "0             0          0  4.686611   3.979912           0.15        11536\n",
       "1             0          1  4.002102   3.278119           0.15        14410\n",
       "2             0          2  3.844480   3.146704           0.15        14797"
      ]
     },
     "execution_count": 8,
     "metadata": {},
     "output_type": "execute_result"
    }
   ],
   "source": [
    "%%bigquery\n",
    "SELECT\n",
    "  *\n",
    "FROM\n",
    "  ML.TRAINING_INFO(MODEL `model_dataset.bike_trips`)\n",
    "ORDER BY iteration "
   ]
  },
  {
   "cell_type": "markdown",
   "metadata": {},
   "source": [
    "## 4) Exercise: Model evaluation\n",
    "\n",
    "Now that you have a model, evaluate it's performance on data from 2018. \n",
    "\n",
    "\n",
    "> Note that the ML.EVALUATE function will return different metrics depending on what's appropriate for your specific model. You can just use the regular ML.EVALUATE funciton here. (ROC curves are generally used to evaluate binary problems, not linear regression, so there's no reason to plot one here.)"
   ]
  },
  {
   "cell_type": "markdown",
   "metadata": {},
   "source": [
    "Write your query below:"
   ]
  },
  {
   "cell_type": "code",
   "execution_count": 9,
   "metadata": {},
   "outputs": [
    {
     "data": {
      "text/html": [
       "<div>\n",
       "<style scoped>\n",
       "    .dataframe tbody tr th:only-of-type {\n",
       "        vertical-align: middle;\n",
       "    }\n",
       "\n",
       "    .dataframe tbody tr th {\n",
       "        vertical-align: top;\n",
       "    }\n",
       "\n",
       "    .dataframe thead th {\n",
       "        text-align: right;\n",
       "    }\n",
       "</style>\n",
       "<table border=\"1\" class=\"dataframe\">\n",
       "  <thead>\n",
       "    <tr style=\"text-align: right;\">\n",
       "      <th></th>\n",
       "      <th>mean_absolute_error</th>\n",
       "      <th>mean_squared_error</th>\n",
       "      <th>mean_squared_log_error</th>\n",
       "      <th>median_absolute_error</th>\n",
       "      <th>r2_score</th>\n",
       "      <th>explained_variance</th>\n",
       "    </tr>\n",
       "  </thead>\n",
       "  <tbody>\n",
       "    <tr>\n",
       "      <th>0</th>\n",
       "      <td>1.733668</td>\n",
       "      <td>13.326763</td>\n",
       "      <td>0.314043</td>\n",
       "      <td>0.886895</td>\n",
       "      <td>-0.074314</td>\n",
       "      <td>-0.012991</td>\n",
       "    </tr>\n",
       "  </tbody>\n",
       "</table>\n",
       "</div>"
      ],
      "text/plain": [
       "   mean_absolute_error  mean_squared_error  mean_squared_log_error  \\\n",
       "0             1.733668           13.326763                0.314043   \n",
       "\n",
       "   median_absolute_error  r2_score  explained_variance  \n",
       "0               0.886895 -0.074314           -0.012991  "
      ]
     },
     "execution_count": 9,
     "metadata": {},
     "output_type": "execute_result"
    }
   ],
   "source": [
    "%%bigquery\n",
    "\n",
    "SELECT\n",
    "  *\n",
    "FROM ML.EVALUATE(MODEL `model_dataset.bike_trips`, (\n",
    "  SELECT\n",
    "    COUNT(1) AS label,\n",
    "    start_station_name, \n",
    "    TIMESTAMP_TRUNC(start_time, HOUR) as start_hour\n",
    "  FROM `bigquery-public-data.austin_bikeshare.bikeshare_trips`\n",
    "  WHERE \n",
    "    EXTRACT(YEAR FROM start_time) >= 2018\n",
    "  GROUP BY\n",
    "    start_station_name, start_hour))"
   ]
  },
  {
   "cell_type": "markdown",
   "metadata": {},
   "source": [
    "You should see that the r^2 score here is negative. Negative values indicate that the model is worse than just predicting the mean rides for each example.\n",
    "\n",
    "## 5) Theories for poor performance\n",
    "\n",
    "Why would your model be doing worse than making the most simple prediction based on historical data?"
   ]
  },
  {
   "cell_type": "markdown",
   "metadata": {},
   "source": [
    "*Because training and test sets need to put in order by timestamp and, perhaps, log-transformation target as well.*"
   ]
  },
  {
   "cell_type": "markdown",
   "metadata": {},
   "source": [
    "## 6) Exercise: Looking at predictions\n",
    "\n",
    "A good way to figure out where your model is going wrong is to look closer at a small set of predictions. Use your model to predict the number of rides for the 22nd & Pearl station in 2018. Compare the mean values of predicted vs actual riders."
   ]
  },
  {
   "cell_type": "markdown",
   "metadata": {},
   "source": [
    "Write your query below:"
   ]
  },
  {
   "cell_type": "code",
   "execution_count": 10,
   "metadata": {},
   "outputs": [
    {
     "data": {
      "text/html": [
       "<div>\n",
       "<style scoped>\n",
       "    .dataframe tbody tr th:only-of-type {\n",
       "        vertical-align: middle;\n",
       "    }\n",
       "\n",
       "    .dataframe tbody tr th {\n",
       "        vertical-align: top;\n",
       "    }\n",
       "\n",
       "    .dataframe thead th {\n",
       "        text-align: right;\n",
       "    }\n",
       "</style>\n",
       "<table border=\"1\" class=\"dataframe\">\n",
       "  <thead>\n",
       "    <tr style=\"text-align: right;\">\n",
       "      <th></th>\n",
       "      <th>mean_absolute_error</th>\n",
       "      <th>mean_squared_error</th>\n",
       "      <th>mean_squared_log_error</th>\n",
       "      <th>median_absolute_error</th>\n",
       "      <th>r2_score</th>\n",
       "      <th>explained_variance</th>\n",
       "    </tr>\n",
       "  </thead>\n",
       "  <tbody>\n",
       "    <tr>\n",
       "      <th>0</th>\n",
       "      <td>2.606061</td>\n",
       "      <td>15.885672</td>\n",
       "      <td>0.537314</td>\n",
       "      <td>1.323319</td>\n",
       "      <td>-0.46932</td>\n",
       "      <td>0.015732</td>\n",
       "    </tr>\n",
       "  </tbody>\n",
       "</table>\n",
       "</div>"
      ],
      "text/plain": [
       "   mean_absolute_error  mean_squared_error  mean_squared_log_error  \\\n",
       "0             2.606061           15.885672                0.537314   \n",
       "\n",
       "   median_absolute_error  r2_score  explained_variance  \n",
       "0               1.323319  -0.46932            0.015732  "
      ]
     },
     "execution_count": 10,
     "metadata": {},
     "output_type": "execute_result"
    }
   ],
   "source": [
    "%%bigquery\n",
    "\n",
    "SELECT\n",
    "  *\n",
    "FROM ML.EVALUATE(MODEL `model_dataset.bike_trips`, (\n",
    "  SELECT\n",
    "    COUNT(1) AS label,\n",
    "    start_station_name, \n",
    "    TIMESTAMP_TRUNC(start_time, HOUR) as start_hour\n",
    "  FROM `bigquery-public-data.austin_bikeshare.bikeshare_trips`\n",
    "  WHERE \n",
    "    EXTRACT(YEAR FROM start_time) = 2018 AND\n",
    "    start_station_name LIKE \"%22nd & Pearl%\"   \n",
    "  GROUP BY\n",
    "    start_station_name, start_hour))"
   ]
  },
  {
   "cell_type": "code",
   "execution_count": 11,
   "metadata": {},
   "outputs": [
    {
     "data": {
      "text/html": [
       "<div>\n",
       "<style scoped>\n",
       "    .dataframe tbody tr th:only-of-type {\n",
       "        vertical-align: middle;\n",
       "    }\n",
       "\n",
       "    .dataframe tbody tr th {\n",
       "        vertical-align: top;\n",
       "    }\n",
       "\n",
       "    .dataframe thead th {\n",
       "        text-align: right;\n",
       "    }\n",
       "</style>\n",
       "<table border=\"1\" class=\"dataframe\">\n",
       "  <thead>\n",
       "    <tr style=\"text-align: right;\">\n",
       "      <th></th>\n",
       "      <th>avg_value</th>\n",
       "    </tr>\n",
       "  </thead>\n",
       "  <tbody>\n",
       "    <tr>\n",
       "      <th>0</th>\n",
       "      <td>3.954864</td>\n",
       "    </tr>\n",
       "  </tbody>\n",
       "</table>\n",
       "</div>"
      ],
      "text/plain": [
       "   avg_value\n",
       "0   3.954864"
      ]
     },
     "execution_count": 11,
     "metadata": {},
     "output_type": "execute_result"
    }
   ],
   "source": [
    "%%bigquery\n",
    "\n",
    "SELECT\n",
    "    AVG(cnt) AS avg_value\n",
    "FROM\n",
    "    (SELECT\n",
    "        COUNT(1) AS cnt,\n",
    "        start_station_name, \n",
    "        TIMESTAMP_TRUNC(start_time, HOUR) as start_hour\n",
    "    FROM `bigquery-public-data.austin_bikeshare.bikeshare_trips`\n",
    "    WHERE \n",
    "        EXTRACT(YEAR FROM start_time) = 2018 AND\n",
    "        start_station_name LIKE \"%22nd & Pearl%\"   \n",
    "    GROUP BY\n",
    "        start_station_name, start_hour)"
   ]
  },
  {
   "cell_type": "markdown",
   "metadata": {},
   "source": [
    "What you should see here is that the model is underestimating the number of rides by quite a bit. \n",
    "\n",
    "## 7) Exercise: Average daily rides per station\n",
    "\n",
    "Either something is wrong with the model or something surprising is happening in the 2018 data. \n",
    "\n",
    "What could be happening in the data? Write a query to get the average number of riders per station for each year in the dataset and order by the year so you can see the trend. You can use the `EXTRACT` method to get the day and year from the start time timestamp. (You can read up on EXTRACT [in this lesson in the Intro to SQL course](https://www.kaggle.com/dansbecker/order-by)). "
   ]
  },
  {
   "cell_type": "markdown",
   "metadata": {},
   "source": [
    "Write your query below:"
   ]
  },
  {
   "cell_type": "code",
   "execution_count": 12,
   "metadata": {},
   "outputs": [],
   "source": [
    "%%bigquery avg_per_year\n",
    "\n",
    "WITH Year_Riders AS\n",
    "    (\n",
    "        SELECT \n",
    "            start_station_name,\n",
    "            EXTRACT(YEAR FROM start_time) as year,\n",
    "            COUNT(1) AS num_riders\n",
    "        FROM\n",
    "            `bigquery-public-data.austin_bikeshare.bikeshare_trips`\n",
    "        GROUP BY\n",
    "            start_station_name, year\n",
    "    )\n",
    "SELECT start_station_name,\n",
    "        year,\n",
    "         AVG(num_riders) AS avg_riders\n",
    "FROM Year_Riders\n",
    "GROUP BY start_station_name, year\n",
    "ORDER BY year DESC\n",
    "    "
   ]
  },
  {
   "cell_type": "code",
   "execution_count": 13,
   "metadata": {},
   "outputs": [
    {
     "data": {
      "text/html": [
       "<div>\n",
       "<style scoped>\n",
       "    .dataframe tbody tr th:only-of-type {\n",
       "        vertical-align: middle;\n",
       "    }\n",
       "\n",
       "    .dataframe tbody tr th {\n",
       "        vertical-align: top;\n",
       "    }\n",
       "\n",
       "    .dataframe thead th {\n",
       "        text-align: right;\n",
       "    }\n",
       "</style>\n",
       "<table border=\"1\" class=\"dataframe\">\n",
       "  <thead>\n",
       "    <tr style=\"text-align: right;\">\n",
       "      <th></th>\n",
       "      <th>start_station_name</th>\n",
       "      <th>year</th>\n",
       "      <th>avg_riders</th>\n",
       "    </tr>\n",
       "  </thead>\n",
       "  <tbody>\n",
       "    <tr>\n",
       "      <th>0</th>\n",
       "      <td>11th &amp; Salina</td>\n",
       "      <td>2019</td>\n",
       "      <td>646.0</td>\n",
       "    </tr>\n",
       "    <tr>\n",
       "      <th>1</th>\n",
       "      <td>6th &amp; Chalmers</td>\n",
       "      <td>2019</td>\n",
       "      <td>387.0</td>\n",
       "    </tr>\n",
       "    <tr>\n",
       "      <th>2</th>\n",
       "      <td>Medina &amp; East 6th</td>\n",
       "      <td>2019</td>\n",
       "      <td>290.0</td>\n",
       "    </tr>\n",
       "    <tr>\n",
       "      <th>3</th>\n",
       "      <td>Red River/Cesar Chavez @ The Fairmont</td>\n",
       "      <td>2019</td>\n",
       "      <td>490.0</td>\n",
       "    </tr>\n",
       "    <tr>\n",
       "      <th>4</th>\n",
       "      <td>Henderson &amp; 9th</td>\n",
       "      <td>2019</td>\n",
       "      <td>342.0</td>\n",
       "    </tr>\n",
       "  </tbody>\n",
       "</table>\n",
       "</div>"
      ],
      "text/plain": [
       "                      start_station_name  year  avg_riders\n",
       "0                         11th & Salina   2019       646.0\n",
       "1                        6th & Chalmers   2019       387.0\n",
       "2                      Medina & East 6th  2019       290.0\n",
       "3  Red River/Cesar Chavez @ The Fairmont  2019       490.0\n",
       "4                        Henderson & 9th  2019       342.0"
      ]
     },
     "execution_count": 13,
     "metadata": {},
     "output_type": "execute_result"
    }
   ],
   "source": [
    "avg_per_year.head()"
   ]
  },
  {
   "cell_type": "code",
   "execution_count": 14,
   "metadata": {},
   "outputs": [
    {
     "data": {
      "image/png": "[encoded data removed]",
      "text/plain": [
       "<Figure size 432x288 with 1 Axes>"
      ]
     },
     "metadata": {
      "needs_background": "light"
     },
     "output_type": "display_data"
    }
   ],
   "source": [
    "import matplotlib\n",
    "avg_per_year.groupby('year')['avg_riders'].sum().plot(kind='bar')\n",
    "matplotlib.pyplot.title(\"Number of bike rides\");"
   ]
  },
  {
   "cell_type": "markdown",
   "metadata": {},
   "source": [
    "## 8) What do your results tell you?\n",
    "\n",
    "Given the daily average riders per station over the years, does it make sense that the model is failing?"
   ]
  },
  {
   "cell_type": "markdown",
   "metadata": {},
   "source": [
    "***As we can see on the plot above, 2018 - is the year with unusual love for cycling.***"
   ]
  },
  {
   "cell_type": "markdown",
   "metadata": {},
   "source": [
    "# 9) Next steps\n",
    "\n",
    "Given what you've learned, what improvements do you think you could make to your model? Share your ideas on the [Kaggle Learn Forums](https://www.kaggle.com/learn-forum)! (I'll pick a couple of my favorite ideas & send the folks who shared them a Kaggle t-shirt. :)"
   ]
  }
 ],
 "metadata": {
  "kernelspec": {
   "display_name": "Python 3",
   "language": "python",
   "name": "python3"
  },
  "language_info": {
   "codemirror_mode": {
    "name": "ipython",
    "version": 3
   },
   "file_extension": ".py",
   "mimetype": "text/x-python",
   "name": "python",
   "nbconvert_exporter": "python",
   "pygments_lexer": "ipython3",
   "version": "3.6.6"
  }
 },
 "nbformat": 4,
 "nbformat_minor": 1
}
